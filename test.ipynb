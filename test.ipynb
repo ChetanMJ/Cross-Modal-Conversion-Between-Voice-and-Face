{
 "cells": [
  {
   "cell_type": "code",
   "execution_count": 1,
   "metadata": {},
   "outputs": [],
   "source": [
    "import configuration\n",
    "\n",
    "import torch\n",
    "import torch.nn as nn\n",
    "import torch.optim as optim\n",
    "import torch.nn.functional as F\n",
    "from torch.utils import data\n",
    "\n",
    "from torch.utils.data import DataLoader\n",
    "from torchvision import datasets, transforms\n",
    "\n",
    "import matplotlib.pyplot as plt\n",
    "import numpy as np\n",
    "\n",
    "DEVICE = \"cuda\" if torch.cuda.is_available() else \"cpu\"\n",
    "\n",
    "import dataset_dataloader"
   ]
  },
  {
   "cell_type": "code",
   "execution_count": 2,
   "metadata": {},
   "outputs": [],
   "source": [
    "from torchvision import transforms as T\n",
    "import random\n",
    "from PIL import Image\n",
    "import torch\n",
    "import os\n",
    "\n",
    "\n",
    "from configuration import *\n",
    "from  dataset_dataloader import *\n",
    "from cross_modal_cvae_model import *"
   ]
  },
  {
   "cell_type": "markdown",
   "metadata": {},
   "source": [
    "## Create Model"
   ]
  },
  {
   "cell_type": "code",
   "execution_count": 3,
   "metadata": {},
   "outputs": [],
   "source": [
    "a=torch.distributions.normal.Normal(torch.tensor([0.0]), torch.tensor([1.0]))\n",
    "b=a.sample((1,8,1,1))\n",
    "xx=b.squeeze(4).to(DEVICE)"
   ]
  },
  {
   "cell_type": "code",
   "execution_count": 4,
   "metadata": {},
   "outputs": [],
   "source": [
    "CM_gen = CrossModal(lambda_p, lambda_s, xx)\n",
    "CM_gen = CM_gen.to(DEVICE)\n",
    "CM_gen_optimizer = torch.optim.Adam(CM_gen.parameters(), learning_rate)"
   ]
  },
  {
   "cell_type": "code",
   "execution_count": null,
   "metadata": {},
   "outputs": [],
   "source": [
    "## load pretrained model"
   ]
  },
  {
   "cell_type": "code",
   "execution_count": 5,
   "metadata": {},
   "outputs": [],
   "source": [
    "checkpoint = torch.load(\"model_params_ACVAE20.tar\")\n",
    "CM_gen.load_state_dict(checkpoint['model_state_dict'])\n",
    "CM_gen_optimizer.load_state_dict(checkpoint['optimizer_state_dict'])"
   ]
  },
  {
   "cell_type": "code",
   "execution_count": 6,
   "metadata": {},
   "outputs": [],
   "source": [
    "## data loader to pick some random voice for given demography"
   ]
  },
  {
   "cell_type": "code",
   "execution_count": 7,
   "metadata": {},
   "outputs": [],
   "source": [
    "FO = np.load(\"voice_cp_FO.npy\", allow_pickle = True)\n",
    "FY = np.load(\"voice_cp_FY.npy\", allow_pickle = True)\n",
    "MO = np.load(\"voice_cp_MO.npy\", allow_pickle = True)\n",
    "MY = np.load(\"voice_cp_MY.npy\", allow_pickle = True)\n",
    "\n",
    "'''\n",
    "FO = torch.tensor(FO).to(DEVICE)\n",
    "FY = torch.tensor(FY).to(DEVICE)\n",
    "MO = torch.tensor(MO).to(DEVICE)\n",
    "MY = torch.tensor(MY).to(DEVICE)\n",
    "'''\n",
    "\n",
    "def data_load_new(batchsize, s ):\n",
    "    x = []\n",
    "    label = []\n",
    "    label_num = s\n",
    "    \n",
    "    if len(s) < batchsize:\n",
    "        batch_iter_size = len(s)\n",
    "    else:\n",
    "        batch_iter_size = batchsize\n",
    "    \n",
    "    for i in range(batch_iter_size):\n",
    "        \n",
    "        if s[i][0]==0 and s[i][1] == 0:\n",
    "            label_num = 0\n",
    "            source = FO\n",
    "            \n",
    "        if s[i][0]==0 and s[i][1] == 1:\n",
    "            label_num = 1\n",
    "            source = FY\n",
    "            \n",
    "        if s[i][0]==1 and s[i][1] == 0:\n",
    "            label_num = 2\n",
    "            source = MO\n",
    "\n",
    "        if s[i][0]==1 and s[i][1] == 1:\n",
    "            label_num = 3\n",
    "            source = MY\n",
    "        \n",
    "        index = random.randint(0,9)\n",
    "        \n",
    "        out = source[index, :, :, :]\n",
    "        x.append(out)\n",
    "        \n",
    "        label.append(label_num)\n",
    "        \n",
    "    return torch.tensor(x), torch.tensor(label)"
   ]
  },
  {
   "cell_type": "markdown",
   "metadata": {},
   "source": [
    "## Pick a random voice clip\n",
    "## in this case 1,0 represents male, young to generate\n",
    "## once this voice clip is passed into the molde it generates male yound pic"
   ]
  },
  {
   "cell_type": "code",
   "execution_count": 8,
   "metadata": {},
   "outputs": [
    {
     "name": "stdout",
     "output_type": "stream",
     "text": [
      "torch.Size([1, 2])\n"
     ]
    },
    {
     "data": {
      "text/plain": [
       "<matplotlib.image.AxesImage at 0x7f220b962cc0>"
      ]
     },
     "execution_count": 8,
     "metadata": {},
     "output_type": "execute_result"
    },
    {
     "data": {
      "image/png": "[encoded data removed]",
      "text/plain": [
       "<Figure size 432x288 with 1 Axes>"
      ]
     },
     "metadata": {
      "needs_background": "light"
     },
     "output_type": "display_data"
    }
   ],
   "source": [
    "s1 = torch.tensor([[1,0]])\n",
    "print(s1.size())\n",
    "x, y = data_load_new(batchsize=1, s=s1)\n",
    "\n",
    "ve_mu, ve_var = CM_gen.Voice_Encoder(x.to(DEVICE))\n",
    "\n",
    "\n",
    "reparam_VE = CM_gen.reparameterize(ve_mu, ve_var)\n",
    "\n",
    "recon_image_mu, recon_image_var = CM_gen.Face_Decoder(reparam_VE, xx)\n",
    "#print(recon_image_mu)\n",
    "recon_image = CM_gen.reparameterize(recon_image_mu, recon_image_var)\n",
    "#print(recon_image)\n",
    "\n",
    "recon1 = recon_image.view(3,64,64)\n",
    "\n",
    "recon1 = recon1.transpose(0,2)\n",
    "\n",
    "recon1 = recon1.transpose(0,1)\n",
    "\n",
    "y11 = recon1.to('cpu')\n",
    "plt.imshow(y11.detach().numpy())"
   ]
  },
  {
   "cell_type": "markdown",
   "metadata": {},
   "source": [
    "## convert voice"
   ]
  },
  {
   "cell_type": "code",
   "execution_count": 11,
   "metadata": {},
   "outputs": [],
   "source": [
    "##female young to male young\n",
    "\n",
    "voice_path_s = './data/vcc2018/VCC2SF1/'\n",
    "file='10001.wav'\n",
    "voice_path_t = './data/vcc2018/VCC2SM1/'\n",
    "\n",
    "output_voice_path= '/home/ubuntu/project2/voice_cvae/converted_voices/'\n",
    "\n",
    "source_dir = 'VCC2SF1'\n",
    "target_dir =  'VCC2SM1'"
   ]
  },
  {
   "cell_type": "code",
   "execution_count": 12,
   "metadata": {},
   "outputs": [],
   "source": [
    "face_path_s = '/home/ubuntu/project2/CELEBA_DATA/MY_test/'\n",
    "face_path_t = '/home/ubuntu/project2/CELEBA_DATA/FY_test/'\n",
    "face_file_s =  '004087.jpg'\n",
    "face_file_t=   '006996.jpg'"
   ]
  },
  {
   "cell_type": "code",
   "execution_count": 14,
   "metadata": {},
   "outputs": [],
   "source": [
    "mode = 'test'\n",
    "batch_size = 4\n",
    "num_workers=1\n",
    "crop_size=178\n",
    "image_size=64\n",
    "\n",
    "transform = []\n",
    "if mode == 'train':\n",
    "    transform.append(T.RandomHorizontalFlip())\n",
    "transform.append(T.CenterCrop(crop_size))\n",
    "transform.append(T.Resize(image_size))\n",
    "transform.append(T.ToTensor())\n",
    "#transform.append(T.Normalize(mean=(0.5, 0.5, 0.5), std=(0.5, 0.5, 0.5)))\n",
    "transform = T.Compose(transform)\n",
    "\n",
    "image_target = Image.open(os.path.join(face_path_t, face_file_t))\n",
    "\n",
    "image_source = Image.open(os.path.join(face_path_s, face_file_s )) \n",
    "\n",
    "face_target = transform(image_target)\n",
    "\n",
    "face_target = face_target.unsqueeze(0)\n",
    "\n",
    "\n",
    "face_source = transform(image_source)\n",
    "\n",
    "face_source = face_source.unsqueeze(0)"
   ]
  },
  {
   "cell_type": "code",
   "execution_count": 15,
   "metadata": {},
   "outputs": [
    {
     "name": "stderr",
     "output_type": "stream",
     "text": [
      "/home/ubuntu/project2/voice_cvae/final_project/preprocess.py:375: RuntimeWarning: divide by zero encountered in log\n",
      "  f0_converted = np.exp((np.log(f0) - mean_log_src) / std_log_src * std_log_target + mean_log_target)\n"
     ]
    }
   ],
   "source": [
    "wav, _ = librosa.load(os.path.join(voice_path_s, file), sr = sampling_rate, mono = True)\n",
    "wav = librosa.util.normalize(wav, norm=np.inf, axis=None)\n",
    "wav = wav_padding(wav = wav, sr = sampling_rate, frame_period = frame_period, multiple = 4)\n",
    "f0, timeaxis, sp, ap, mc = world_decompose(wav = wav, fs = sampling_rate, frame_period = frame_period)\n",
    "\n",
    "\n",
    "mc_transposed  = np.array(mc).T\n",
    "\n",
    "mcep_normalization_params_s = np.load(os.path.join(voice_path_s, \"mcep_\"+source_dir+\".npz\"))\n",
    "mcep_mean_s = mcep_normalization_params_s['mean']\n",
    "mcep_std_s = mcep_normalization_params_s['std']    \n",
    "mcep_normalization_params_t = np.load(os.path.join(voice_path_t, \"mcep_\"+target_dir+\".npz\"))\n",
    "mcep_mean_t = mcep_normalization_params_t['mean']\n",
    "mcep_std_t = mcep_normalization_params_t['std']\n",
    "\n",
    "mc_norm = (mc_transposed - mcep_mean_s) / mcep_std_s\n",
    "\n",
    "x = torch.Tensor(mc_norm).view(1, 1, mc_norm.shape[0], mc_norm.shape[1])\n",
    "\n",
    "n_frames=1024\n",
    "frames = np.shape(mc_transposed)[1]\n",
    "# #print(frames)\n",
    "start_ = np.random.randint(frames - n_frames + 1)\n",
    "end_ = start_ + n_frames\n",
    "x=x[:,:,:,start_:end_]\n",
    "\n",
    "\n",
    "x = x.to(DEVICE)\n",
    "face_target= face_target.to(DEVICE)\n",
    "\n",
    "face_source = face_source.to(DEVICE)\n",
    "\n",
    "\n",
    "\n",
    "#(face,_) in data_iter\n",
    "\n",
    "CM_gen.eval()\n",
    "\n",
    "UE_mu, UE_var = CM_gen.Utterance_Encoder(x)\n",
    "FE_mu, FE_var = CM_gen.Face_Encoder(face_target)\n",
    "reparam_UE = CM_gen.reparameterize(UE_mu, UE_var)\n",
    "reparam_FE = CM_gen.reparameterize(FE_mu, FE_var)\n",
    "UD_mu, UD_var = CM_gen.Utterance_Decoder(reparam_UE,reparam_FE)\n",
    "recon_voice = CM_gen.reparameterize(UD_mu, UD_var)\n",
    "\n",
    "\n",
    "FE_mu_s, FE_var_s = CM_gen.Face_Encoder(face_source)\n",
    "reparam_FE_s = CM_gen.reparameterize(FE_mu_s, FE_var_s)\n",
    "UD_mu_s, UD_var_s = CM_gen.Utterance_Decoder(reparam_UE,reparam_FE_s)\n",
    "recon_voice_s = CM_gen.reparameterize(UD_mu_s, UD_var_s)\n",
    "\n",
    "\n",
    "if (torch.cuda.is_available()):\n",
    "    z_dec_s = recon_voice_s.data.cpu().numpy().reshape((mc_norm.shape[0], n_frames))\n",
    "else:\n",
    "    z_dec_s = recon_voice_s.data.numpy().reshape((mc_norm.shape[0], n_frames))\n",
    "\n",
    "\n",
    "if (torch.cuda.is_available()):\n",
    "    z_dec_t = recon_voice.data.cpu().numpy().reshape((mc_norm.shape[0], n_frames))\n",
    "else:\n",
    "    z_dec_t = recon_voice.data.numpy().reshape((mc_norm.shape[0], n_frames))\n",
    "    \n",
    "\n",
    "    \n",
    "mc_converted_t = z_dec_t * mcep_std_t + mcep_mean_t\n",
    "mc_converted_t = mc_converted_t.T\n",
    "mc_converted_t = np.ascontiguousarray(mc_converted_t)\n",
    "sp_converted_t = world_decode_mc(mc = mc_converted_t, fs = sampling_rate)\n",
    "\n",
    "\n",
    "mc_converted_s = z_dec_s * mcep_std_s + mcep_mean_s\n",
    "mc_converted_s = mc_converted_s.T\n",
    "mc_converted_s = np.ascontiguousarray(mc_converted_s)\n",
    "sp_converted_s = world_decode_mc(mc = mc_converted_s, fs = sampling_rate)\n",
    "\n",
    "sp = sp[:n_frames,:]\n",
    "\n",
    "sp_gained = np.multiply(sp, np.divide(sp_converted_t, sp_converted_s))\n",
    "\n",
    "logf0s_normalization_params_s = np.load(os.path.join(voice_path_s, \"log_f0_\"+source_dir+\".npz\"))\n",
    "logf0s_mean_s = logf0s_normalization_params_s['mean']\n",
    "logf0s_std_s = logf0s_normalization_params_s['std']\n",
    "\n",
    "\n",
    "logf0s_normalization_params_t = np.load(os.path.join(voice_path_t, \"log_f0_\"+target_dir+\".npz\"))\n",
    "logf0s_mean_t = logf0s_normalization_params_t['mean']\n",
    "logf0s_std_t = logf0s_normalization_params_t['std']\n",
    "\n",
    "\n",
    "\n",
    "ap=ap[:n_frames]\n",
    "\n",
    "\n",
    "\n",
    "f0_converted = pitch_conversion(f0 = f0, mean_log_src = logf0s_mean_s, std_log_src = logf0s_std_s, mean_log_target = logf0s_mean_t, std_log_target = logf0s_std_t)\n",
    "\n",
    "f0_converted = f0_converted[:n_frames]\n",
    "wav_transformed = world_speech_synthesis(f0 = f0_converted, sp = sp_gained, ap = ap, fs = sampling_rate, frame_period = frame_period)\n",
    "librosa.output.write_wav(os.path.join(output_voice_path, source_dir +\"_to_\"+target_dir+\".wav\"), wav_transformed, sampling_rate)\n"
   ]
  }
 ],
 "metadata": {
  "kernelspec": {
   "display_name": "Python 3",
   "language": "python",
   "name": "python3"
  },
  "language_info": {
   "codemirror_mode": {
    "name": "ipython",
    "version": 3
   },
   "file_extension": ".py",
   "mimetype": "text/x-python",
   "name": "python",
   "nbconvert_exporter": "python",
   "pygments_lexer": "ipython3",
   "version": "3.6.5"
  }
 },
 "nbformat": 4,
 "nbformat_minor": 4
}
